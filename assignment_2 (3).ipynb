{
  "cells": [
    {
      "cell_type": "markdown",
      "metadata": {
        "id": "-J4XXlZ8I48s"
      },
      "source": [
        "#QUESTION 1 : DISCUSS STRING SLICING AND PROVIDE WITH EXAMPLES?\n",
        "ANSWER: STRING SLICING IN PYTHON IS  A POWERFUL FEATURE THAT ALLOWS TO EXTRACT A PORTION OF A STRING BY SPECIFYING A START INDEX, AN END INDEX, AND AN OPTIONAL STEP. THE SYNTAX FOR SLICING IS: STRING[start:end:step].\n",
        "EXAMPLES ARE"
      ]
    },
    {
      "cell_type": "markdown",
      "metadata": {
        "id": "fMQb9pP748x-"
      },
      "source": [
        "1.SIMPLE  SLICING: THIS SLICES THE STRING FROM INDEX 0 TO 4 ( UOTO BUT NOT INCLUDING 5)."
      ]
    },
    {
      "cell_type": "code",
      "execution_count": null,
      "metadata": {
        "colab": {
          "base_uri": "https://localhost:8080/"
        },
        "id": "VIyY_hR05Hxt",
        "outputId": "b1423af1-62aa-4815-a955-73f65b516a26"
      },
      "outputs": [
        {
          "name": "stdout",
          "output_type": "stream",
          "text": [
            "Hello\n"
          ]
        }
      ],
      "source": [
        "text = \"Hello, World\"\n",
        "slice1 = text[0:5]\n",
        "print (slice1)"
      ]
    },
    {
      "cell_type": "markdown",
      "metadata": {
        "id": "83_AoUeM6GRm"
      },
      "source": []
    },
    {
      "cell_type": "markdown",
      "metadata": {
        "id": "y5qOjCgC6Iij"
      },
      "source": [
        "2.OMITTING START: IT IS AN INDEX ASSUMES THE START OF THE STRING.\n",
        "            STOP: IT IS AN INDEX ASSUMES THE END OF THE STRING."
      ]
    },
    {
      "cell_type": "code",
      "execution_count": null,
      "metadata": {
        "colab": {
          "base_uri": "https://localhost:8080/"
        },
        "id": "4z7NPKTC6v_g",
        "outputId": "e63a1924-ff1a-4671-e0b0-05f65b9f6dfa"
      },
      "outputs": [
        {
          "name": "stdout",
          "output_type": "stream",
          "text": [
            "Hello\n"
          ]
        }
      ],
      "source": [
        "slice2 = text[:5]\n",
        "print(slice2)"
      ]
    },
    {
      "cell_type": "code",
      "execution_count": null,
      "metadata": {
        "colab": {
          "base_uri": "https://localhost:8080/"
        },
        "id": "vsGEj-xO64FU",
        "outputId": "639901d2-7c0d-4b19-f82f-42db82987025"
      },
      "outputs": [
        {
          "name": "stdout",
          "output_type": "stream",
          "text": [
            "World\n"
          ]
        }
      ],
      "source": [
        "slice3= text[7:]\n",
        "print(slice3)"
      ]
    },
    {
      "cell_type": "markdown",
      "metadata": {
        "id": "zYcFHlm67UUW"
      },
      "source": []
    },
    {
      "cell_type": "markdown",
      "metadata": {
        "id": "PMaWIZuZ7V01"
      },
      "source": [
        "3.USING NEGATIVE INDICES: PYTHON ALLOES NEGATIVE INDEXING , WHERE -1 REFERS TO THE LAST CHARACTER , -2 TO THE SECOND LAST, AND SO ON.\n"
      ]
    },
    {
      "cell_type": "code",
      "execution_count": null,
      "metadata": {
        "colab": {
          "base_uri": "https://localhost:8080/"
        },
        "id": "UrpuVAX67pPP",
        "outputId": "d6cf6e9c-772b-4d0d-ea08-078e8169d261"
      },
      "outputs": [
        {
          "name": "stdout",
          "output_type": "stream",
          "text": [
            " Worl\n"
          ]
        }
      ],
      "source": [
        "slice4=text[-6:-1]\n",
        "print(slice4)"
      ]
    },
    {
      "cell_type": "code",
      "execution_count": null,
      "metadata": {
        "id": "0EPWhgq77xlk"
      },
      "outputs": [],
      "source": []
    },
    {
      "cell_type": "markdown",
      "metadata": {
        "id": "USPWdlCv76Zt"
      },
      "source": [
        "4.USING STEP: THE STEP PARAMETER  CONTROLS THE STRIDE BETWEEN CHARACTERS.THIOS SLICES EVERY SECOND CHARACTER FROM THE ORIGINAL STRING."
      ]
    },
    {
      "cell_type": "code",
      "execution_count": null,
      "metadata": {
        "colab": {
          "base_uri": "https://localhost:8080/"
        },
        "id": "2x548JqL8NoS",
        "outputId": "c6501aef-8c68-47d2-f57b-1abb85e39c5a"
      },
      "outputs": [
        {
          "name": "stdout",
          "output_type": "stream",
          "text": [
            "Hlo ol\n"
          ]
        }
      ],
      "source": [
        "slice5=text[::2]\n",
        "print(slice5)"
      ]
    },
    {
      "cell_type": "markdown",
      "metadata": {
        "id": "Ozn1O-GC8MnZ"
      },
      "source": []
    },
    {
      "cell_type": "markdown",
      "metadata": {
        "id": "Sryrrpar8e5d"
      },
      "source": [
        "5.REVERSING A STRING: BY USING A NEGATIVE STEP, WE CAN REVERSE A STRING."
      ]
    },
    {
      "cell_type": "code",
      "execution_count": null,
      "metadata": {
        "colab": {
          "base_uri": "https://localhost:8080/"
        },
        "id": "IJ1jvwW08pfL",
        "outputId": "1995c8e1-8b46-4d2a-edc2-3ca8dc555e02"
      },
      "outputs": [
        {
          "name": "stdout",
          "output_type": "stream",
          "text": [
            "dlroW ,olleH\n"
          ]
        }
      ],
      "source": [
        "reversed_text=text[::-1]\n",
        "print(reversed_text)"
      ]
    },
    {
      "cell_type": "code",
      "execution_count": null,
      "metadata": {
        "id": "04HD1_cW8zwK"
      },
      "outputs": [],
      "source": []
    },
    {
      "cell_type": "markdown",
      "metadata": {
        "id": "Xl6c99tz9cXI"
      },
      "source": [
        "#QUESTION 2: EXPLAIN THE KEY FEATURES OF LISTS IN PYTHON?\n",
        "ANSWER: LISTS IN PYTHON ARE A VERSATILE AND COMMONLY USED DATA STRUCTURE. THEY ARE ORDERED,MUTABLE AND CAN STORE A COLLECTION OF ITEMS OF ANY DATA TYPE. HERE ARE SOME KEY FEATURES OF PYTHON LIST,\n",
        "1. ORDERED COLLECTION: LISTS MAINTAIN THE ORDER OF ELEMENTS AS THEY WERE ADDED.THIS MEANS THAT WHEN WE ITERATE OVER A LIST OR ACCESS ITS ELEMENTS, THEY WILL APPEAR IN THE ORDER IN WHICH THEY WERE ADDED. EXAMPLE\n"
      ]
    },
    {
      "cell_type": "code",
      "execution_count": null,
      "metadata": {
        "colab": {
          "base_uri": "https://localhost:8080/"
        },
        "id": "pPIqmvo3-_uR",
        "outputId": "daa3055e-2801-474d-c076-ae4a4cc30b58"
      },
      "outputs": [
        {
          "name": "stdout",
          "output_type": "stream",
          "text": [
            "['apple', 'banana', 'cherry']\n"
          ]
        }
      ],
      "source": [
        "fruits=[\"apple\",\"banana\",\"cherry\"]\n",
        "print (fruits)"
      ]
    },
    {
      "cell_type": "code",
      "execution_count": null,
      "metadata": {
        "id": "v-EDNF5v_QGC"
      },
      "outputs": [],
      "source": []
    },
    {
      "cell_type": "markdown",
      "metadata": {
        "id": "beikebod_Rtc"
      },
      "source": [
        "2.MUTABLE: LISTS ARE MUTABLE , MEANING THAT THEIR CONTENTS CAN BE CHANGED AFTER THEY ARE CREATED.WE CAN ADD, REMOVE OR MODIFY ELEMENTS IN A LIST. EXAMPLE"
      ]
    },
    {
      "cell_type": "code",
      "execution_count": null,
      "metadata": {
        "colab": {
          "base_uri": "https://localhost:8080/"
        },
        "id": "qELa4E1EB5tB",
        "outputId": "f57b53f5-a447-4b8c-fccc-4088a057306c"
      },
      "outputs": [
        {
          "name": "stdout",
          "output_type": "stream",
          "text": [
            "['apple', 'orange', 'cherry']\n"
          ]
        }
      ],
      "source": [
        "fruits[1] = \"orange\"\n",
        "print(fruits)"
      ]
    },
    {
      "cell_type": "markdown",
      "metadata": {
        "id": "dDED1DNRChNd"
      },
      "source": []
    },
    {
      "cell_type": "markdown",
      "metadata": {
        "id": "QKpZswGjCitH"
      },
      "source": [
        "3.HETEROGENEOUS ELEMENTS: A SINGLE LIST CAN CONTAIN ELEMENTS OF DIFFERENT DATA TYPES, INCLUDING INTEGERS, STRINGS, FLOATS, OR EVEN OTHER LISTS (NESTED LISTS).\n",
        "EXAMPLE"
      ]
    },
    {
      "cell_type": "code",
      "execution_count": null,
      "metadata": {
        "colab": {
          "base_uri": "https://localhost:8080/"
        },
        "id": "c3R4l9IlC7O7",
        "outputId": "320fd350-04b2-49a0-8be2-56a5c92f1f84"
      },
      "outputs": [
        {
          "name": "stdout",
          "output_type": "stream",
          "text": [
            "[1, 'apple', 3.14, [2, 4, 6]]\n"
          ]
        }
      ],
      "source": [
        "mixed_list = [1,\"apple\", 3.14, [2,4,6]]\n",
        "print(mixed_list)"
      ]
    },
    {
      "cell_type": "code",
      "execution_count": null,
      "metadata": {
        "id": "CXtay16eDJtt"
      },
      "outputs": [],
      "source": []
    },
    {
      "cell_type": "markdown",
      "metadata": {
        "id": "KLLnOVYo3iZb"
      },
      "source": [
        "4.DYNAMIC SIZE: LISTS CAN GROW AND SHRINK IN SIZE AS ELEMENTS ARE ADDED OR REMOVED. WE DONT NEED TO DECLARE THE SIZE OF A LIST WHEN WE CREATE IT. EXAMPLA\n"
      ]
    },
    {
      "cell_type": "code",
      "execution_count": null,
      "metadata": {
        "colab": {
          "base_uri": "https://localhost:8080/"
        },
        "id": "3w1YC2VR36Y9",
        "outputId": "1b56cfeb-f69c-4c4f-f153-7e222a437ff4"
      },
      "outputs": [
        {
          "name": "stdout",
          "output_type": "stream",
          "text": [
            "[1, 2, 3, 4]\n"
          ]
        }
      ],
      "source": [
        "numbers= [1,2,3]\n",
        "numbers.append(4)\n",
        "print (numbers)"
      ]
    },
    {
      "cell_type": "code",
      "execution_count": null,
      "metadata": {
        "id": "lUDLHgsB4Fwg"
      },
      "outputs": [],
      "source": []
    },
    {
      "cell_type": "markdown",
      "metadata": {
        "id": "rO9Pqbwr4K2X"
      },
      "source": [
        "5.INDEXING AND SLICING: LISTS SUPPORT INDEXING (BOTH POSITIVE AND NEGATIVE) TO ACCESS INDIVDUAL ELEMENTS. SLICING ALLOWS TO CREATE SUBLISTS. EXAMPLE\n"
      ]
    },
    {
      "cell_type": "code",
      "execution_count": null,
      "metadata": {
        "colab": {
          "base_uri": "https://localhost:8080/"
        },
        "id": "1rvwuskc4gkn",
        "outputId": "35a1987b-bbc0-40a7-85ef-e43d8882362a"
      },
      "outputs": [
        {
          "name": "stdout",
          "output_type": "stream",
          "text": [
            "c\n"
          ]
        }
      ],
      "source": [
        "letters= [\"a\", \"b\", \"c\", \"d\", \"e\"]\n",
        "print(letters[2])"
      ]
    },
    {
      "cell_type": "code",
      "execution_count": null,
      "metadata": {
        "colab": {
          "base_uri": "https://localhost:8080/"
        },
        "id": "KVWqTW5W4tuY",
        "outputId": "32d89278-92f7-4c7a-a740-100f21cc2b3a"
      },
      "outputs": [
        {
          "name": "stdout",
          "output_type": "stream",
          "text": [
            "e\n"
          ]
        }
      ],
      "source": [
        "print(letters[-1])"
      ]
    },
    {
      "cell_type": "code",
      "execution_count": null,
      "metadata": {
        "colab": {
          "base_uri": "https://localhost:8080/"
        },
        "id": "UI72WnBw4yft",
        "outputId": "e80f6719-d86c-4fb5-d590-8af3097006a6"
      },
      "outputs": [
        {
          "name": "stdout",
          "output_type": "stream",
          "text": [
            "['b', 'c', 'd']\n"
          ]
        }
      ],
      "source": [
        "print(letters[1:4])"
      ]
    },
    {
      "cell_type": "code",
      "execution_count": null,
      "metadata": {
        "id": "extuqlW644Ne"
      },
      "outputs": [],
      "source": []
    },
    {
      "cell_type": "markdown",
      "metadata": {
        "id": "UtcQfk2A4-RK"
      },
      "source": [
        "6.METHODS FOR LIST MANIPULATION; LISTS COME WITH A VARIETY OF BUILT-IN METHODS THAT MAKE MANUPILATION EASY.\n",
        ". APPEND(ITEM)- ADDS AN ITEM TO THE END OF THE LIST.\n",
        ". INSERT(INDEX,ITEM)- INSERTS AN ITEM AT A SPECIFIC POSITION.\n",
        ". REMOVE(ITEM)- REMOVES THE FIRST OCCURENCE OF AN ITEM\n",
        ". POP(INDEX)- REMOVES AND RETURNS THE ITEM AT THE GIVEN INDEX.\n",
        ". SORT()- SORTS THE LIST IN PLACE.\n",
        ".REVERSE()-REVERSE THE ORDER OF THE LIST IN PLACE.\n",
        ". EXTEND( ITERABLE)- EXTENDS THE LIST BY APPENDING ELEMENTS FROM AN ITERABLE.\n",
        "EXAMPLE\n"
      ]
    },
    {
      "cell_type": "code",
      "execution_count": null,
      "metadata": {
        "colab": {
          "base_uri": "https://localhost:8080/"
        },
        "id": "zYsPSQi66RWW",
        "outputId": "9cfc0ed9-8bcd-49ae-ff83-1aaef0f16a1e"
      },
      "outputs": [
        {
          "name": "stdout",
          "output_type": "stream",
          "text": [
            "[1, 1, 3, 4, 5]\n"
          ]
        }
      ],
      "source": [
        "numbers=[3,1,4,1,5]\n",
        "numbers.sort()\n",
        "print (numbers)"
      ]
    },
    {
      "cell_type": "code",
      "execution_count": null,
      "metadata": {
        "id": "i8NVFTdR6a4-"
      },
      "outputs": [],
      "source": []
    },
    {
      "cell_type": "markdown",
      "metadata": {
        "id": "7PElsIac6nUC"
      },
      "source": [
        "7.ITERABILITY: LISTS CAN BE EASILY ITERATED OVER USING LOOPS LIKE FOR AND WHILE.\n",
        "EXAMPLE"
      ]
    },
    {
      "cell_type": "code",
      "execution_count": null,
      "metadata": {
        "colab": {
          "base_uri": "https://localhost:8080/"
        },
        "id": "bT_51q1n62b0",
        "outputId": "5fb88f74-9d51-425e-fe0f-4bbe7209ecec"
      },
      "outputs": [
        {
          "name": "stdout",
          "output_type": "stream",
          "text": [
            "apple\n",
            "banana\n",
            "cherry\n"
          ]
        }
      ],
      "source": [
        "for fruit in [\"apple\",\"banana\", \"cherry\"]:\n",
        "     print(fruit)"
      ]
    },
    {
      "cell_type": "markdown",
      "metadata": {
        "id": "L9DvLru-7XKk"
      },
      "source": [
        "8.COMPREHENSIONS: LIST COMPREHENSIONS PROVIDE A CONCISE WAY TO CREATE LISTS BY APPLYING AN EXPRESSION TO EACH ELEMENT IN AN ITERABLE.\n",
        "EXAMPLE"
      ]
    },
    {
      "cell_type": "code",
      "execution_count": null,
      "metadata": {
        "colab": {
          "base_uri": "https://localhost:8080/"
        },
        "id": "qmwigBGw7G0S",
        "outputId": "f4dabd7e-1d37-4003-8e94-f4a4868a3a3b"
      },
      "outputs": [
        {
          "name": "stdout",
          "output_type": "stream",
          "text": [
            "[0, 1, 4, 9, 16]\n"
          ]
        }
      ],
      "source": [
        "squares= [x**2 for x in range(5)]\n",
        "print(squares)"
      ]
    },
    {
      "cell_type": "markdown",
      "metadata": {
        "id": "lxFeNTBQ8CA3"
      },
      "source": [
        "9. MEMBERSHIP TESTING: WE CAN CHECK WHETHER AN ITEM EXISTS IN A LIST USING THE IN KEYWORD.\n",
        "EXAMPLE"
      ]
    },
    {
      "cell_type": "code",
      "execution_count": null,
      "metadata": {
        "id": "OD1DR5Tg8tRX"
      },
      "outputs": [],
      "source": [
        "if \"apple \" in fruits:\n",
        "     print(\"Apple is in the list.\")"
      ]
    },
    {
      "cell_type": "markdown",
      "metadata": {
        "id": "OedYgYSF82t8"
      },
      "source": [
        "10. COPYING LISTS: ASSIGNING A LIST TO ANOTHER VARIABLE CREATES A REFERENCE , NOT A COPY.\n",
        "IN ORDER TO MAKE A COPY , WE CAN USE SLICING OR THE COPY()METHOD."
      ]
    },
    {
      "cell_type": "code",
      "execution_count": null,
      "metadata": {
        "id": "SrZGl0AE9Umj"
      },
      "outputs": [],
      "source": [
        "original= [1,2,3]\n",
        "copy = original[:]\n",
        " or use\n",
        " copy= original.copy()"
      ]
    },
    {
      "cell_type": "markdown",
      "metadata": {
        "id": "1vGdyRsVBccu"
      },
      "source": [
        "# QUESTION 3: DESCRIBE HOW TO ACESS, MODIFY AND DELETE ELEMENT IN A LIST WITH EXAMPLES?\n",
        "ANSWER\": IN PYTHON , LISTS ARE A VERSATILE DATA STRUCTURE THAT ALLOWS TO STORE AND MANIPULATE A SEQUENCE OF ELEMENTS. WE CAN ACCESS, MODIFY AND DELETE ELEMENTS IN A LIST.\n",
        "1.ACCESSING ELEMENTSIN A LIST: WE CAN ACCESS ELEMENTS IN A LIST USING THEIR INDEX. PYTHON LISTS ARE ZERO-INDEXED , THE FIRST ELEMENT IS AT INDEX 0."
      ]
    },
    {
      "cell_type": "code",
      "execution_count": null,
      "metadata": {
        "colab": {
          "base_uri": "https://localhost:8080/"
        },
        "id": "yoD6NsMgCmBo",
        "outputId": "cda32b9a-f8f5-4043-fc7b-e82674ce4c28"
      },
      "outputs": [
        {
          "name": "stdout",
          "output_type": "stream",
          "text": [
            "apple\n"
          ]
        }
      ],
      "source": [
        "fruits = [\"apple\", \"banana\", \"cherry\",\"date\"]\n",
        "print(fruits[0])"
      ]
    },
    {
      "cell_type": "code",
      "execution_count": null,
      "metadata": {
        "colab": {
          "base_uri": "https://localhost:8080/"
        },
        "id": "X2LRbXGFC3VW",
        "outputId": "ebb22894-2d5e-43c5-e382-5ebd3ca5508b"
      },
      "outputs": [
        {
          "name": "stdout",
          "output_type": "stream",
          "text": [
            "cherry\n"
          ]
        }
      ],
      "source": [
        "print(fruits[2])"
      ]
    },
    {
      "cell_type": "code",
      "execution_count": null,
      "metadata": {
        "colab": {
          "base_uri": "https://localhost:8080/"
        },
        "id": "LnZvzUfNC-fZ",
        "outputId": "9d57d31d-569a-4daa-8e7e-9841bbc071d4"
      },
      "outputs": [
        {
          "name": "stdout",
          "output_type": "stream",
          "text": [
            "date\n"
          ]
        }
      ],
      "source": [
        "print(fruits[-1])"
      ]
    },
    {
      "cell_type": "markdown",
      "metadata": {
        "id": "-_8DVzIFDEe0"
      },
      "source": []
    },
    {
      "cell_type": "markdown",
      "metadata": {
        "id": "tY2LNojcDGDr"
      },
      "source": [
        "2. MODIFYNG ELEMENTS IN A LIST: WE CAN MODIFY THE ELEMENTS IN A LIST BY ACCESSING THEM VIA THEIR INDEX AND ASSIGNING A NEW VALUE.\n",
        "EXAMPLE"
      ]
    },
    {
      "cell_type": "code",
      "execution_count": null,
      "metadata": {
        "colab": {
          "base_uri": "https://localhost:8080/"
        },
        "id": "YOAV09XWDVuK",
        "outputId": "87c6f43c-9aa3-47e2-a40d-dc3f00abf792"
      },
      "outputs": [
        {
          "name": "stdout",
          "output_type": "stream",
          "text": [
            "['apple', 'blurberry', 'cherry', 'date']\n"
          ]
        }
      ],
      "source": [
        "fruits=[\"apple\", \"banana\", \"cherry\", \"date\",]\n",
        "#change the second element\n",
        "fruits[1]=\"blurberry\"\n",
        "print(fruits)"
      ]
    },
    {
      "cell_type": "markdown",
      "metadata": {
        "id": "aAxGnS0UD6eh"
      },
      "source": [
        "3.DELETING ELEMENTS FROM A LIST IN SEVERAL WAYS: WE CAN DELETEELEMENTS FROM A LIST IN SEVERAL WAYS:\n",
        "USING DEL KEYWORS: IT REMOVES THE ELEMENT AT A SPECIFIC INDEX\n",
        "USING POP(): IT REMOVES AND RETURNS THE ELEMENT AT A SPECIFIC INDEX. IF NO INDEX IS SPECIFIED, IT REMOVES THE LAST ELEMENT.\n",
        "USING REMOVE(): IT REMOVES THE FIRST OCCURRENCE OF A SPECIFIC VALUE.\n",
        "EXAMPLE"
      ]
    },
    {
      "cell_type": "code",
      "execution_count": null,
      "metadata": {
        "colab": {
          "base_uri": "https://localhost:8080/"
        },
        "id": "8xEZcafHEph2",
        "outputId": "c5ad6e5e-c120-4382-f2b7-48f56168f837"
      },
      "outputs": [
        {
          "name": "stdout",
          "output_type": "stream",
          "text": [
            "['apple', 'banana', 'date']\n"
          ]
        }
      ],
      "source": [
        "fruits=[\"apple\",\"banana\", \"cherry\", \"date\"]\n",
        "#delete the third element using 'del'\n",
        "del fruits[2]\n",
        "print(fruits)"
      ]
    },
    {
      "cell_type": "code",
      "execution_count": null,
      "metadata": {
        "colab": {
          "base_uri": "https://localhost:8080/"
        },
        "id": "zJ8WQNQdDuqe",
        "outputId": "6712759f-f16d-4219-90be-7c3d09a50b24"
      },
      "outputs": [
        {
          "name": "stdout",
          "output_type": "stream",
          "text": [
            "['apple', 'banana']\n"
          ]
        }
      ],
      "source": [
        "#delete the last element using 'pop'()\n",
        "popped_element=fruits.pop()\n",
        "print(fruits)"
      ]
    },
    {
      "cell_type": "code",
      "execution_count": null,
      "metadata": {
        "colab": {
          "base_uri": "https://localhost:8080/"
        },
        "id": "Ge3abBgRFQ6k",
        "outputId": "4fab0549-1a60-4378-cde7-20e235fce90f"
      },
      "outputs": [
        {
          "name": "stdout",
          "output_type": "stream",
          "text": [
            "date\n"
          ]
        }
      ],
      "source": [
        "print(popped_element)"
      ]
    },
    {
      "cell_type": "code",
      "execution_count": null,
      "metadata": {
        "colab": {
          "base_uri": "https://localhost:8080/"
        },
        "id": "f5cgXNpyFYI_",
        "outputId": "b4cc799a-8acd-4aa3-d252-62fce63bdf7b"
      },
      "outputs": [
        {
          "name": "stdout",
          "output_type": "stream",
          "text": [
            "['apple']\n"
          ]
        }
      ],
      "source": [
        "#delete the first occurence of \"banana\" using 'remove'()\n",
        "fruits.remove('banana')\n",
        "print(fruits)"
      ]
    },
    {
      "cell_type": "markdown",
      "metadata": {
        "id": "xOUXHHpXFy8-"
      },
      "source": [
        "#QUESTION 4: COMPARE AND CONTRAST TUPLES AND LISTS WITH EXAMPLES?\n",
        "ANSWER: TUPLES AND LISTS ARE BOTH DATA STRUCTURES IN PYTHON THAT CAN STORE A COLLECTION OF ITEMS. SOME KEY DIFFERENCES IN TERMS OF MUTABILITY,SYNTAX, AND USE CASES. BELOW IS A COMPARISON BETWEEN THE TWO\n",
        "1.MUTABILITY\n",
        "LISTS: LISTS ARE MUTABLE, MEANING WE CAN CHANGE , ADD OR REMOVE ELEMENTS AFTER THE LIST HAS BEEN CREATED.\n",
        "TUPLE: TUPLE ARE IMMUTABLE , ONCE TUPLE IS CREATED , WE CANNOT CHANGE ITS ELEMENTS , ADD NEW ELEMENTS, OR REMOVE ELEMENTS.\n",
        "\n"
      ]
    },
    {
      "cell_type": "code",
      "execution_count": null,
      "metadata": {
        "colab": {
          "base_uri": "https://localhost:8080/"
        },
        "id": "7XiE-v_mHfJf",
        "outputId": "610e8210-3481-4e39-8036-b017419d85f0"
      },
      "outputs": [
        {
          "name": "stdout",
          "output_type": "stream",
          "text": [
            "[10, 2, 3, 4]\n"
          ]
        }
      ],
      "source": [
        "#list(mutable)\n",
        "my_list=[1,2,3]\n",
        "my_list[0]=10\n",
        "my_list.append(4)\n",
        "print(my_list)"
      ]
    },
    {
      "cell_type": "code",
      "execution_count": null,
      "metadata": {
        "colab": {
          "base_uri": "https://localhost:8080/",
          "height": 176
        },
        "id": "b1X-JPscH2ek",
        "outputId": "59ebc1d8-14fd-446c-83a2-5726df0c1e08"
      },
      "outputs": [
        {
          "ename": "TypeError",
          "evalue": "'tuple' object does not support item assignment",
          "output_type": "error",
          "traceback": [
            "\u001b[0;31m---------------------------------------------------------------------------\u001b[0m",
            "\u001b[0;31mTypeError\u001b[0m                                 Traceback (most recent call last)",
            "\u001b[0;32m<ipython-input-12-7ed6e762ce37>\u001b[0m in \u001b[0;36m<cell line: 3>\u001b[0;34m()\u001b[0m\n\u001b[1;32m      1\u001b[0m \u001b[0;31m#tuple(immutable)\u001b[0m\u001b[0;34m\u001b[0m\u001b[0;34m\u001b[0m\u001b[0m\n\u001b[1;32m      2\u001b[0m \u001b[0mmy_tuple\u001b[0m\u001b[0;34m=\u001b[0m\u001b[0;34m(\u001b[0m\u001b[0;36m1\u001b[0m\u001b[0;34m,\u001b[0m\u001b[0;36m2\u001b[0m\u001b[0;34m,\u001b[0m\u001b[0;36m3\u001b[0m\u001b[0;34m)\u001b[0m\u001b[0;34m\u001b[0m\u001b[0;34m\u001b[0m\u001b[0m\n\u001b[0;32m----> 3\u001b[0;31m \u001b[0mmy_tuple\u001b[0m\u001b[0;34m[\u001b[0m\u001b[0;36m0\u001b[0m\u001b[0;34m]\u001b[0m\u001b[0;34m=\u001b[0m\u001b[0;36m10\u001b[0m\u001b[0;34m\u001b[0m\u001b[0;34m\u001b[0m\u001b[0m\n\u001b[0m",
            "\u001b[0;31mTypeError\u001b[0m: 'tuple' object does not support item assignment"
          ]
        }
      ],
      "source": [
        "#tuple(immutable)\n",
        "my_tuple=(1,2,3)\n",
        "my_tuple[0]=10"
      ]
    },
    {
      "cell_type": "markdown",
      "metadata": {
        "id": "ffasIUGkIrk9"
      },
      "source": [
        "2.SYNTAX.\n",
        "LIST:  LISTS ARE DEFINED USING SQUARE BRACKETS[]\n",
        "TUPLE: TUPLES ARE DEFINED USING PARENTHESES()\n",
        "EXAMPLE"
      ]
    },
    {
      "cell_type": "code",
      "execution_count": null,
      "metadata": {
        "id": "4UtfpQPWI_GP"
      },
      "outputs": [],
      "source": [
        "#list\n",
        "my_list=[1,2,3,4]\n",
        "#tuple\n",
        "my_tuple=(1,2,3,4)\n"
      ]
    },
    {
      "cell_type": "markdown",
      "metadata": {
        "id": "o0rfRbRRJNEr"
      },
      "source": [
        "3.PERFORMANCE;\n",
        "LIST: LISTS ARE SLOWER THAN TUPLES BECAUSE OF THEIR MUTABLE NATURE, WHICH ALLOWS OPERATIONS LIKE APPENDING, EXTENDING AND REMOVING ELEMENTS.\n",
        "TUPLE: TUPLES ARE GENERALLY FASTER THAN LISTS BECAUSE THEY ARE IMMUTABLE AND HAVE A SMALLER MEMORY FOORPRINT.\n",
        "EXAMPLES: PERFORMANCE BECOMES A SIGNIFICANT IN LARGE SCALE APPLICATIONS, WHERE WE MIGHT CHOOSE A TUPLE OVER A LIST FOR BETTER EFFICIENCY.\n",
        "\n",
        "4.USE CASES:\n",
        "LIST; USE LISTS WHEN WE NEED A COLLECTION OF ITEMS THAT MAY NEED TO BE MODIFIED, SORTED OR EXTENDED DURING THE PROGRAM EXECUTION.\n",
        "TUPLE; USE TUPLES WHEN WE HAVE A FIXED COLLECTION OF ITEMS THAT SHOULD NOT BE CHANGED, SUCH AS COORDINATES, FIXED SETTINGS, OR WHEN WE WANT TO ENSURE THE DATA INTEGRITY.\n",
        "EXAMPLE;"
      ]
    },
    {
      "cell_type": "code",
      "execution_count": null,
      "metadata": {
        "colab": {
          "base_uri": "https://localhost:8080/"
        },
        "id": "if1IswE_Kw0n",
        "outputId": "d7796dd2-b785-409b-f38c-e435082502fd"
      },
      "outputs": [
        {
          "name": "stdout",
          "output_type": "stream",
          "text": [
            "['milk', 'bread', 'eggs', 'butter']\n"
          ]
        }
      ],
      "source": [
        "#list use case\n",
        "shopping_list=[\"milk\",\"bread\",\"eggs\"]\n",
        "shopping_list.append(\"butter\")\n",
        "print(shopping_list)"
      ]
    },
    {
      "cell_type": "code",
      "execution_count": null,
      "metadata": {
        "id": "yIb0mpOFIJht"
      },
      "outputs": [],
      "source": [
        "#tuple use case\n",
        "coordinates=(40.7128,-74.0060)\n",
        "#latitude and longitude of new york city\n",
        "#coordinates[0]=40.730610\n",
        "this will raise a type error"
      ]
    },
    {
      "cell_type": "code",
      "execution_count": null,
      "metadata": {
        "id": "6e8T_bk9L0cn"
      },
      "outputs": [],
      "source": [
        "5. METHODS AVAILBLE\n",
        "LISTS: LISTS HAVE MORE BUILT-IN METHODS LIKE APPEND(),REMOVE(), POP(),SORT(),REVERSE(),Exception\n",
        "TUPLE: TUPLES HAVE FEWER METHODS, MAINLY COUNT() AND INDEX().\n",
        "EXAMPLES"
      ]
    },
    {
      "cell_type": "code",
      "execution_count": null,
      "metadata": {
        "colab": {
          "base_uri": "https://localhost:8080/"
        },
        "id": "Bb1Qc7cYMRFp",
        "outputId": "058fb760-c4d6-485f-b9ed-e58f10bebf30"
      },
      "outputs": [
        {
          "name": "stdout",
          "output_type": "stream",
          "text": [
            "[1, 2, 3, 4]\n"
          ]
        }
      ],
      "source": [
        "#list methods\n",
        "my_list=[1,2,3]\n",
        "my_list.append(4)\n",
        "print(my_list)"
      ]
    },
    {
      "cell_type": "code",
      "execution_count": null,
      "metadata": {
        "colab": {
          "base_uri": "https://localhost:8080/"
        },
        "id": "PWcIDxnOLbs0",
        "outputId": "db70a6ba-6134-4e6a-df08-6aba76fdeaaa"
      },
      "outputs": [
        {
          "name": "stdout",
          "output_type": "stream",
          "text": [
            "[4, 3, 2, 1]\n"
          ]
        }
      ],
      "source": [
        "my_list.sort(reverse=True)\n",
        "#sorting the list in decending order\n",
        "print(my_list)"
      ]
    },
    {
      "cell_type": "code",
      "execution_count": null,
      "metadata": {
        "colab": {
          "base_uri": "https://localhost:8080/"
        },
        "id": "myLbTJb3NFCT",
        "outputId": "0095791b-7eec-4c18-db0e-269727cd7468"
      },
      "outputs": [
        {
          "name": "stdout",
          "output_type": "stream",
          "text": [
            "2\n"
          ]
        }
      ],
      "source": [
        "#tuple methods\n",
        "my_tuple=(1,2,3,3)\n",
        "print(my_tuple.count(3))"
      ]
    },
    {
      "cell_type": "code",
      "execution_count": null,
      "metadata": {
        "colab": {
          "base_uri": "https://localhost:8080/"
        },
        "id": "psxV0LLzODSh",
        "outputId": "8ab69fe9-1c4b-44a6-cfa6-dd891971c810"
      },
      "outputs": [
        {
          "name": "stdout",
          "output_type": "stream",
          "text": [
            "1\n"
          ]
        }
      ],
      "source": [
        "print(my_tuple.index(2))"
      ]
    },
    {
      "cell_type": "code",
      "execution_count": null,
      "metadata": {
        "id": "0H7HvK84OM1P"
      },
      "outputs": [],
      "source": []
    },
    {
      "cell_type": "markdown",
      "metadata": {
        "id": "mhdGWRqiORiC"
      },
      "source": [
        "6.PACKING AND UNPACKING:\n",
        "LIST: BOTH LISTS AND TUPLES SUPPORT PACKING (GROUPING MULTIPLE ITEMS INTO A LIST OR TUPLE) AND UNPACKING (ASSIGNING THE ELEMENYS OF A LIST OR TUPLE TO MULTIPLE VARIABLES)\n",
        "TUPLE: UNPACKING IS OFTEN USED WITH TUPLES FOR FIXED SIZE COLLECTIONS.\n",
        "example"
      ]
    },
    {
      "cell_type": "code",
      "execution_count": null,
      "metadata": {
        "colab": {
          "base_uri": "https://localhost:8080/"
        },
        "id": "b3oBJ2ikO6_c",
        "outputId": "942a52f9-1c92-4b4b-cff7-8daa799898e0"
      },
      "outputs": [
        {
          "name": "stdout",
          "output_type": "stream",
          "text": [
            "1 2 3\n"
          ]
        }
      ],
      "source": [
        "#packing and unpacking a list\n",
        "my_list=[1,2,3]\n",
        "a,b,c= my_list\n",
        "print(a,b,c)"
      ]
    },
    {
      "cell_type": "code",
      "execution_count": null,
      "metadata": {
        "colab": {
          "base_uri": "https://localhost:8080/"
        },
        "id": "hXhWQ0NNPIxa",
        "outputId": "1c05d123-25ce-472c-9143-e5e4e808be13"
      },
      "outputs": [
        {
          "name": "stdout",
          "output_type": "stream",
          "text": [
            "4 5 6\n"
          ]
        }
      ],
      "source": [
        "#packing and unpacking a tuple\n",
        "my_tuple=(4,5,6)\n",
        "x,y,z=my_tuple\n",
        "print(x,y,z)"
      ]
    },
    {
      "cell_type": "code",
      "execution_count": null,
      "metadata": {
        "id": "iLii9FvoPdUz"
      },
      "outputs": [],
      "source": []
    },
    {
      "cell_type": "markdown",
      "metadata": {
        "id": "TDEdWjv0uFKA"
      },
      "source": [
        "#QUESTION 5: DESCRIBE THE KEY FEATURES OF SETS AND PROVIDE EXAMPLES OF THEIR USE?\n",
        "ANSWER: SETS ARE A BUILT-IN DATA TYPE THAT ALLOWS TO STORE COLLECTIONS OF UNIQUE ELEMENTS.SETS ARE MUTABLE MEANS WE CAN MODIFY THEM AFTER CREATION BUT THEIR ELEMENTS MUST BE IMMUTABLE.\n",
        "EXAMPLES set={1,2,3}"
      ]
    },
    {
      "cell_type": "code",
      "execution_count": null,
      "metadata": {
        "colab": {
          "base_uri": "https://localhost:8080/"
        },
        "id": "ANZOj9xiwW6X",
        "outputId": "1d23e9f5-2ad4-4307-f66f-a744b4dd1a1f"
      },
      "outputs": [
        {
          "data": {
            "text/plain": [
              "{1, 2, 4, 9}"
            ]
          },
          "execution_count": 1,
          "metadata": {},
          "output_type": "execute_result"
        }
      ],
      "source": [
        "#1 sets gives unorderd unique elements\n",
        "set={1,2,9,4,1,1}\n",
        "set"
      ]
    },
    {
      "cell_type": "code",
      "execution_count": null,
      "metadata": {
        "colab": {
          "base_uri": "https://localhost:8080/",
          "height": 159
        },
        "id": "67GT3lNhwjXo",
        "outputId": "601c95f7-5091-41f5-94a9-2a2763266757"
      },
      "outputs": [
        {
          "ename": "TypeError",
          "evalue": "'set' object is not subscriptable",
          "output_type": "error",
          "traceback": [
            "\u001b[0;31m---------------------------------------------------------------------------\u001b[0m",
            "\u001b[0;31mTypeError\u001b[0m                                 Traceback (most recent call last)",
            "\u001b[0;32m<ipython-input-2-02ae2fbae39c>\u001b[0m in \u001b[0;36m<cell line: 2>\u001b[0;34m()\u001b[0m\n\u001b[1;32m      1\u001b[0m \u001b[0;31m#2 cannot acess index\u001b[0m\u001b[0;34m\u001b[0m\u001b[0;34m\u001b[0m\u001b[0m\n\u001b[0;32m----> 2\u001b[0;31m \u001b[0mset\u001b[0m\u001b[0;34m[\u001b[0m\u001b[0;36m0\u001b[0m\u001b[0;34m]\u001b[0m\u001b[0;34m\u001b[0m\u001b[0;34m\u001b[0m\u001b[0m\n\u001b[0m",
            "\u001b[0;31mTypeError\u001b[0m: 'set' object is not subscriptable"
          ]
        }
      ],
      "source": [
        "#2 cannot acess index\n",
        "set[0]"
      ]
    },
    {
      "cell_type": "code",
      "execution_count": null,
      "metadata": {
        "colab": {
          "base_uri": "https://localhost:8080/"
        },
        "id": "6cuDOv7dwvFX",
        "outputId": "b8ae0a33-d2fb-46a9-d75d-85cba4913153"
      },
      "outputs": [
        {
          "data": {
            "text/plain": [
              "{1, 2, 4, 9, 100}"
            ]
          },
          "execution_count": 3,
          "metadata": {},
          "output_type": "execute_result"
        }
      ],
      "source": [
        "#3 they are unchangeable\n",
        "set.add(100)\n",
        "set"
      ]
    },
    {
      "cell_type": "code",
      "execution_count": null,
      "metadata": {
        "colab": {
          "base_uri": "https://localhost:8080/"
        },
        "id": "DX9DPe8gw5ml",
        "outputId": "f9007fc1-2c7d-4c38-bdcf-fb3823823af6"
      },
      "outputs": [
        {
          "data": {
            "text/plain": [
              "{1, 4, 9, 100}"
            ]
          },
          "execution_count": 4,
          "metadata": {},
          "output_type": "execute_result"
        }
      ],
      "source": [
        "set.remove(2)\n",
        "set"
      ]
    },
    {
      "cell_type": "code",
      "execution_count": null,
      "metadata": {
        "colab": {
          "base_uri": "https://localhost:8080/"
        },
        "id": "VLp-bD8jw96U",
        "outputId": "d49e353e-190f-4df0-ec13-bc0c5c9d4181"
      },
      "outputs": [
        {
          "data": {
            "text/plain": [
              "4"
            ]
          },
          "execution_count": 5,
          "metadata": {},
          "output_type": "execute_result"
        }
      ],
      "source": [
        "len(set)"
      ]
    },
    {
      "cell_type": "code",
      "execution_count": null,
      "metadata": {
        "colab": {
          "base_uri": "https://localhost:8080/"
        },
        "id": "X70QNvUOxBkr",
        "outputId": "3474f7af-5b55-422d-a3d6-48031f4cc395"
      },
      "outputs": [
        {
          "data": {
            "text/plain": [
              "{1, 2, 3, 4, 5}"
            ]
          },
          "execution_count": 8,
          "metadata": {},
          "output_type": "execute_result"
        }
      ],
      "source": [
        "#operators used in set are union\n",
        "s1={1,2,3}\n",
        "s2={3,4,5}\n",
        "s1|s2"
      ]
    },
    {
      "cell_type": "code",
      "execution_count": null,
      "metadata": {
        "colab": {
          "base_uri": "https://localhost:8080/"
        },
        "id": "wfzGpqYuxQ0n",
        "outputId": "bd4faec4-e119-4d7c-e986-922660098bc1"
      },
      "outputs": [
        {
          "data": {
            "text/plain": [
              "{3}"
            ]
          },
          "execution_count": 9,
          "metadata": {},
          "output_type": "execute_result"
        }
      ],
      "source": [
        "#intersection\n",
        "s1&s2\n"
      ]
    },
    {
      "cell_type": "code",
      "execution_count": null,
      "metadata": {
        "colab": {
          "base_uri": "https://localhost:8080/"
        },
        "id": "NfHYmrbIxjYN",
        "outputId": "0c267947-d9d0-4365-f9bc-f54220c2840f"
      },
      "outputs": [
        {
          "data": {
            "text/plain": [
              "{1, 2}"
            ]
          },
          "execution_count": 10,
          "metadata": {},
          "output_type": "execute_result"
        }
      ],
      "source": [
        "#difference\n",
        "s1-s2"
      ]
    },
    {
      "cell_type": "code",
      "execution_count": null,
      "metadata": {
        "colab": {
          "base_uri": "https://localhost:8080/"
        },
        "id": "sOo4ttt6xm_q",
        "outputId": "5cdfb983-04ca-4cf7-8543-cf634fcb7e84"
      },
      "outputs": [
        {
          "data": {
            "text/plain": [
              "{1, 2, 4, 5}"
            ]
          },
          "execution_count": 11,
          "metadata": {},
          "output_type": "execute_result"
        }
      ],
      "source": [
        "#symetric\n",
        "s1^s2"
      ]
    },
    {
      "cell_type": "markdown",
      "metadata": {
        "id": "P4rMbitHyQNS"
      },
      "source": [
        "#QUESTION 6: DISCUSS THE USE CASES OF TUPLES AND SETS IN PYTHON PROGRAMMING?\n",
        "ANSWER: TUPLES ARE ORDERED COLLECTION OF ELEMENTS USED TO STORE MULTIPLE , DUPLICATE ELEMENTS IN A SINGLE VARIABLE.THEY ARE HETEROGENEOUS AND IMMUTABLE SO THEY ARE USED TO STORE DATA WHICH CANNOT BE CHANGED EVER. EG. ACCOUNT NOO.,ADHAAR NO.,ATM NO."
      ]
    },
    {
      "cell_type": "code",
      "execution_count": null,
      "metadata": {
        "colab": {
          "base_uri": "https://localhost:8080/"
        },
        "id": "Nls39OZEx1a4",
        "outputId": "0be5a5fa-8288-4abd-d735-7a3a311c92d7"
      },
      "outputs": [
        {
          "data": {
            "text/plain": [
              "(1, 2, 2, 'monjo', True, None)"
            ]
          },
          "execution_count": 1,
          "metadata": {},
          "output_type": "execute_result"
        }
      ],
      "source": [
        "#CREATING A TUPLE\n",
        "t=(1,2,2,\"monjo\", True,None)\n",
        "t"
      ]
    },
    {
      "cell_type": "code",
      "execution_count": null,
      "metadata": {
        "colab": {
          "base_uri": "https://localhost:8080/"
        },
        "id": "sdSPfjClL9PZ",
        "outputId": "575a81ed-8436-40fb-db9c-702ddfa5e2cc"
      },
      "outputs": [
        {
          "data": {
            "text/plain": [
              "tuple"
            ]
          },
          "execution_count": 2,
          "metadata": {},
          "output_type": "execute_result"
        }
      ],
      "source": [
        "#to see the type\n",
        "type(t)"
      ]
    },
    {
      "cell_type": "code",
      "execution_count": null,
      "metadata": {
        "colab": {
          "base_uri": "https://localhost:8080/"
        },
        "id": "d-yG7YqiMM8K",
        "outputId": "755751c4-4440-4fac-b512-ec6aff380a95"
      },
      "outputs": [
        {
          "data": {
            "text/plain": [
              "(1, 2, 3, 5)"
            ]
          },
          "execution_count": 4,
          "metadata": {},
          "output_type": "execute_result"
        }
      ],
      "source": [
        "#tuples are accessed by index\n",
        "t=(1,2,3,5)\n",
        "t"
      ]
    },
    {
      "cell_type": "code",
      "execution_count": null,
      "metadata": {
        "colab": {
          "base_uri": "https://localhost:8080/"
        },
        "id": "0ERtLDCqMXzd",
        "outputId": "678a6b29-377e-41a7-a8c7-832e2eebd262"
      },
      "outputs": [
        {
          "data": {
            "text/plain": [
              "1"
            ]
          },
          "execution_count": 5,
          "metadata": {},
          "output_type": "execute_result"
        }
      ],
      "source": [
        "t[0]"
      ]
    },
    {
      "cell_type": "code",
      "execution_count": null,
      "metadata": {
        "colab": {
          "base_uri": "https://localhost:8080/"
        },
        "id": "Fb_iU_obMdMZ",
        "outputId": "e7b2e166-6b55-47a5-a8f2-aebd11b7fd62"
      },
      "outputs": [
        {
          "data": {
            "text/plain": [
              "5"
            ]
          },
          "execution_count": 6,
          "metadata": {},
          "output_type": "execute_result"
        }
      ],
      "source": [
        "t[-1]"
      ]
    },
    {
      "cell_type": "code",
      "execution_count": null,
      "metadata": {
        "colab": {
          "base_uri": "https://localhost:8080/",
          "height": 159
        },
        "id": "AS17aKVAMgDm",
        "outputId": "b153d4a3-e676-4929-b019-e20369a32427"
      },
      "outputs": [
        {
          "ename": "TypeError",
          "evalue": "'tuple' object does not support item assignment",
          "output_type": "error",
          "traceback": [
            "\u001b[0;31m---------------------------------------------------------------------------\u001b[0m",
            "\u001b[0;31mTypeError\u001b[0m                                 Traceback (most recent call last)",
            "\u001b[0;32m<ipython-input-8-d2f391c219f3>\u001b[0m in \u001b[0;36m<cell line: 2>\u001b[0;34m()\u001b[0m\n\u001b[1;32m      1\u001b[0m \u001b[0;31m#if wanted to change the value in\u001b[0m\u001b[0;34m\u001b[0m\u001b[0;34m\u001b[0m\u001b[0m\n\u001b[0;32m----> 2\u001b[0;31m \u001b[0mt\u001b[0m\u001b[0;34m[\u001b[0m\u001b[0;36m0\u001b[0m\u001b[0;34m]\u001b[0m\u001b[0;34m=\u001b[0m\u001b[0;36m5\u001b[0m\u001b[0;34m\u001b[0m\u001b[0;34m\u001b[0m\u001b[0m\n\u001b[0m",
            "\u001b[0;31mTypeError\u001b[0m: 'tuple' object does not support item assignment"
          ]
        }
      ],
      "source": [
        "#if wanted to change the value in\n",
        "t[0]=5"
      ]
    },
    {
      "cell_type": "code",
      "execution_count": null,
      "metadata": {
        "colab": {
          "base_uri": "https://localhost:8080/"
        },
        "id": "ApYeN-53MsiD",
        "outputId": "ba7d22e4-206c-4dae-947a-16703037e4d8"
      },
      "outputs": [
        {
          "data": {
            "text/plain": [
              "1"
            ]
          },
          "execution_count": 9,
          "metadata": {},
          "output_type": "execute_result"
        }
      ],
      "source": [
        "#count values of element\n",
        "t.count(2)"
      ]
    },
    {
      "cell_type": "code",
      "execution_count": null,
      "metadata": {
        "colab": {
          "base_uri": "https://localhost:8080/"
        },
        "id": "qaXj3qj9M5Fz",
        "outputId": "8a3693cc-a421-4758-b4ac-d945fc9bd040"
      },
      "outputs": [
        {
          "data": {
            "text/plain": [
              "2"
            ]
          },
          "execution_count": 10,
          "metadata": {},
          "output_type": "execute_result"
        }
      ],
      "source": [
        "t.index(3)"
      ]
    },
    {
      "cell_type": "code",
      "execution_count": null,
      "metadata": {
        "colab": {
          "base_uri": "https://localhost:8080/"
        },
        "id": "5j0DSgsjM8gr",
        "outputId": "0188796f-af67-44eb-85dd-5ede31b867aa"
      },
      "outputs": [
        {
          "data": {
            "text/plain": [
              "4"
            ]
          },
          "execution_count": 11,
          "metadata": {},
          "output_type": "execute_result"
        }
      ],
      "source": [
        "len(t)"
      ]
    },
    {
      "cell_type": "code",
      "execution_count": null,
      "metadata": {
        "colab": {
          "base_uri": "https://localhost:8080/"
        },
        "id": "pUfMubvxM_B_",
        "outputId": "5c3e616f-62f0-47d3-eec3-1f02e13556b7"
      },
      "outputs": [
        {
          "data": {
            "text/plain": [
              "[1, 4, 6, 7]"
            ]
          },
          "execution_count": 13,
          "metadata": {},
          "output_type": "execute_result"
        }
      ],
      "source": [
        "t=(1,4,6,7)\n",
        "sorted(t)"
      ]
    },
    {
      "cell_type": "code",
      "execution_count": null,
      "metadata": {
        "colab": {
          "base_uri": "https://localhost:8080/"
        },
        "id": "N88TvaizNFGz",
        "outputId": "465c0436-e760-4aff-f0ae-c3073c928eaa"
      },
      "outputs": [
        {
          "data": {
            "text/plain": [
              "True"
            ]
          },
          "execution_count": 14,
          "metadata": {},
          "output_type": "execute_result"
        }
      ],
      "source": [
        "#see if element is present\n",
        "1 in t"
      ]
    },
    {
      "cell_type": "code",
      "execution_count": null,
      "metadata": {
        "colab": {
          "base_uri": "https://localhost:8080/"
        },
        "id": "bBnleifeNSb4",
        "outputId": "c7b71209-7424-4075-e4e7-f8ae10de3932"
      },
      "outputs": [
        {
          "data": {
            "text/plain": [
              "((1, 2, 3), (4, 5, 6))"
            ]
          },
          "execution_count": 15,
          "metadata": {},
          "output_type": "execute_result"
        }
      ],
      "source": [
        "#nesting of tuple\n",
        "t=((1,2,3),(4,5,6))\n",
        "t"
      ]
    },
    {
      "cell_type": "markdown",
      "metadata": {
        "id": "E37KMS0YNkNt"
      },
      "source": []
    },
    {
      "cell_type": "markdown",
      "metadata": {
        "id": "UCq_MINVNmZ7"
      },
      "source": [
        "SET IS UNORDERED COLLECTION OF UNIQUE ELEMENTS NO DUPLICATES, DNT HAVE INDEX CANNOT ACCESS.THEY ARE MUTABLE AND UNCHANGEABLE. SETS ARE USED IN INDUSTRY LIKE TO KNOW UNIQUE ELEMENTS IN TWO FEAMES.\n",
        "df1=5,8,6,2 df2=6,2,8,5"
      ]
    },
    {
      "cell_type": "code",
      "execution_count": null,
      "metadata": {
        "colab": {
          "base_uri": "https://localhost:8080/"
        },
        "id": "lFc_quB6OS0n",
        "outputId": "10d2d7db-4e76-4d12-d9df-35f7e85b1382"
      },
      "outputs": [
        {
          "data": {
            "text/plain": [
              "{1, 2, 3}"
            ]
          },
          "execution_count": 16,
          "metadata": {},
          "output_type": "execute_result"
        }
      ],
      "source": [
        "#creating set\n",
        "s={1,1,1,2,3}\n",
        "s"
      ]
    },
    {
      "cell_type": "code",
      "execution_count": null,
      "metadata": {
        "colab": {
          "base_uri": "https://localhost:8080/",
          "height": 159
        },
        "id": "8DYNRlyjOZvI",
        "outputId": "d5b72140-1c02-4735-f2cc-9a0c6a39cd48"
      },
      "outputs": [
        {
          "ename": "TypeError",
          "evalue": "'set' object is not subscriptable",
          "output_type": "error",
          "traceback": [
            "\u001b[0;31m---------------------------------------------------------------------------\u001b[0m",
            "\u001b[0;31mTypeError\u001b[0m                                 Traceback (most recent call last)",
            "\u001b[0;32m<ipython-input-17-c5fc3657f470>\u001b[0m in \u001b[0;36m<cell line: 2>\u001b[0;34m()\u001b[0m\n\u001b[1;32m      1\u001b[0m \u001b[0;31m#cannot access index\u001b[0m\u001b[0;34m\u001b[0m\u001b[0;34m\u001b[0m\u001b[0m\n\u001b[0;32m----> 2\u001b[0;31m \u001b[0ms\u001b[0m\u001b[0;34m[\u001b[0m\u001b[0;36m0\u001b[0m\u001b[0;34m]\u001b[0m\u001b[0;34m\u001b[0m\u001b[0;34m\u001b[0m\u001b[0m\n\u001b[0m",
            "\u001b[0;31mTypeError\u001b[0m: 'set' object is not subscriptable"
          ]
        }
      ],
      "source": [
        "#cannot access index\n",
        "s[0]"
      ]
    },
    {
      "cell_type": "code",
      "execution_count": null,
      "metadata": {
        "colab": {
          "base_uri": "https://localhost:8080/",
          "height": 159
        },
        "id": "N3eMOUn7Oe6u",
        "outputId": "261a8e3e-4228-44d0-bb54-bcbbb00434e3"
      },
      "outputs": [
        {
          "ename": "TypeError",
          "evalue": "'set' object does not support item assignment",
          "output_type": "error",
          "traceback": [
            "\u001b[0;31m---------------------------------------------------------------------------\u001b[0m",
            "\u001b[0;31mTypeError\u001b[0m                                 Traceback (most recent call last)",
            "\u001b[0;32m<ipython-input-18-1c4bf3f09226>\u001b[0m in \u001b[0;36m<cell line: 2>\u001b[0;34m()\u001b[0m\n\u001b[1;32m      1\u001b[0m \u001b[0;31m#cant change once created\u001b[0m\u001b[0;34m\u001b[0m\u001b[0;34m\u001b[0m\u001b[0m\n\u001b[0;32m----> 2\u001b[0;31m \u001b[0ms\u001b[0m\u001b[0;34m[\u001b[0m\u001b[0;36m2\u001b[0m\u001b[0;34m]\u001b[0m\u001b[0;34m=\u001b[0m\u001b[0;36m100\u001b[0m\u001b[0;34m\u001b[0m\u001b[0;34m\u001b[0m\u001b[0m\n\u001b[0m",
            "\u001b[0;31mTypeError\u001b[0m: 'set' object does not support item assignment"
          ]
        }
      ],
      "source": [
        "#cant change once created\n",
        "s[2]=100"
      ]
    },
    {
      "cell_type": "code",
      "execution_count": null,
      "metadata": {
        "colab": {
          "base_uri": "https://localhost:8080/"
        },
        "id": "rK4V9ifCOput",
        "outputId": "7c115f4f-e0c8-4ae3-e5ef-ff69fa29ad88"
      },
      "outputs": [
        {
          "data": {
            "text/plain": [
              "{1, 2, 3, 100}"
            ]
          },
          "execution_count": 19,
          "metadata": {},
          "output_type": "execute_result"
        }
      ],
      "source": [
        "#but we can add and remove\n",
        "s.add(100)\n",
        "s"
      ]
    },
    {
      "cell_type": "code",
      "execution_count": null,
      "metadata": {
        "colab": {
          "base_uri": "https://localhost:8080/"
        },
        "id": "9mjp7NzoOzqW",
        "outputId": "e9929be1-1e29-4702-c65b-c7708bfd07c3"
      },
      "outputs": [
        {
          "data": {
            "text/plain": [
              "{1, 2, 3}"
            ]
          },
          "execution_count": 20,
          "metadata": {},
          "output_type": "execute_result"
        }
      ],
      "source": [
        "s.remove(100)\n",
        "s"
      ]
    },
    {
      "cell_type": "code",
      "execution_count": null,
      "metadata": {
        "colab": {
          "base_uri": "https://localhost:8080/"
        },
        "id": "x-grmVFMO478",
        "outputId": "463b7b5e-605d-418c-bc56-9e2540d1d4b2"
      },
      "outputs": [
        {
          "data": {
            "text/plain": [
              "set()"
            ]
          },
          "execution_count": 21,
          "metadata": {},
          "output_type": "execute_result"
        }
      ],
      "source": [
        "s.clear()\n",
        "s"
      ]
    },
    {
      "cell_type": "code",
      "execution_count": null,
      "metadata": {
        "colab": {
          "base_uri": "https://localhost:8080/"
        },
        "id": "oc6H74CuO83V",
        "outputId": "aa9aa060-6c0a-4264-cd79-b7f02f03f35f"
      },
      "outputs": [
        {
          "data": {
            "text/plain": [
              "{1, 2, 3, 4, 5}"
            ]
          },
          "execution_count": 22,
          "metadata": {},
          "output_type": "execute_result"
        }
      ],
      "source": [
        "#different operations also performed\n",
        "s1={1,2,3}\n",
        "s2={3,4,5}\n",
        "s1|s2"
      ]
    },
    {
      "cell_type": "code",
      "execution_count": null,
      "metadata": {
        "colab": {
          "base_uri": "https://localhost:8080/"
        },
        "id": "IpS-qqh_PMZo",
        "outputId": "74c4e701-2649-4c59-b492-1224c03bcdba"
      },
      "outputs": [
        {
          "data": {
            "text/plain": [
              "{3}"
            ]
          },
          "execution_count": 23,
          "metadata": {},
          "output_type": "execute_result"
        }
      ],
      "source": [
        "#intersection: common element\n",
        "s1&s2"
      ]
    },
    {
      "cell_type": "code",
      "execution_count": null,
      "metadata": {
        "colab": {
          "base_uri": "https://localhost:8080/"
        },
        "id": "5wtFaWqdPVTA",
        "outputId": "50c56377-576d-46db-8feb-559134729b43"
      },
      "outputs": [
        {
          "data": {
            "text/plain": [
              "{1, 2}"
            ]
          },
          "execution_count": 24,
          "metadata": {},
          "output_type": "execute_result"
        }
      ],
      "source": [
        "s1-s2"
      ]
    },
    {
      "cell_type": "code",
      "execution_count": null,
      "metadata": {
        "id": "amhTs65-PaP5"
      },
      "outputs": [],
      "source": []
    },
    {
      "cell_type": "markdown",
      "metadata": {
        "id": "umqz41F-kDgA"
      },
      "source": [
        "#QUESTION 7: DESCRIBE HOW TO ADD, MODIFY AND DELETE ITEMS IN A DICTIONARY WITH EXAMPLES?\n",
        "ANSWER: A DICTIONARY IN PYTHON IS A COLLECTION OF KEY-VALUE PAIRS.HERE'S HOW WE CAN ADD, MODIFY AND DELETE ITEMS.\n",
        "1.ADD ITEMS TO A DICTIONARY: TO ADD AN ITEM , WE SIMPLY ASSIGN A VALUE TO A KEY. IF THE KEY DOESN'T ALREADY EXIST , IT IS ADDED TO THE DICTIONARY."
      ]
    },
    {
      "cell_type": "code",
      "execution_count": null,
      "metadata": {
        "colab": {
          "base_uri": "https://localhost:8080/"
        },
        "id": "M0GCXLOflO4C",
        "outputId": "cff1cf34-4597-4af3-f4db-a4ae61eff0ea"
      },
      "outputs": [
        {
          "name": "stdout",
          "output_type": "stream",
          "text": [
            "{'name': 'Alice', 'age': 25, 'city': 'New york'}\n"
          ]
        }
      ],
      "source": [
        "#creating an empty dictionary\n",
        "my_dict={}\n",
        "#adding items\n",
        "my_dict[\"name\"]= \"Alice\"\n",
        "my_dict[\"age\"]=25\n",
        "my_dict[\"city\"]=\"New york\"\n",
        "print(my_dict)"
      ]
    },
    {
      "cell_type": "code",
      "execution_count": null,
      "metadata": {
        "id": "Fu1QW6GEl_wz"
      },
      "outputs": [],
      "source": []
    },
    {
      "cell_type": "markdown",
      "metadata": {
        "id": "ALxlNnLFnHNP"
      },
      "source": [
        "2.MODIFY ITEMS IN A DICTIONARY: TO MODIFY AN ITEM, WE REFER TO ITS KEY AND ASSIGN A NEW VALUE\n"
      ]
    },
    {
      "cell_type": "code",
      "execution_count": null,
      "metadata": {
        "colab": {
          "base_uri": "https://localhost:8080/"
        },
        "id": "KQOL2rf9ncuK",
        "outputId": "067d4c6d-e0e3-4e5e-dbfc-d90cf7f1ced0"
      },
      "outputs": [
        {
          "name": "stdout",
          "output_type": "stream",
          "text": [
            "{'name': 'Alice', 'age': 30, 'city': 'New york'}\n"
          ]
        }
      ],
      "source": [
        "# Modifying an existing item\n",
        "my_dict[\"age\"]=30\n",
        "print(my_dict)\n"
      ]
    },
    {
      "cell_type": "markdown",
      "metadata": {
        "id": "0cJdH-iEpJOl"
      },
      "source": [
        "3.DELETE ITEMS FROM A DICTIONARY\n",
        "WE CAN DELETE ITEMS USING VARIOUS METHODS.\n",
        "USING DEL: REMOVES THE KEY AND ITS ASSOCIATEDVALUE.\n",
        "#DELETING AN ITEM USING 'DEL'\n"
      ]
    },
    {
      "cell_type": "code",
      "execution_count": null,
      "metadata": {
        "colab": {
          "base_uri": "https://localhost:8080/"
        },
        "id": "kouiRYpis9-2",
        "outputId": "52867453-5f63-47b5-a97d-7131c623fc82"
      },
      "outputs": [
        {
          "name": "stdout",
          "output_type": "stream",
          "text": [
            "{'name': 'Alice', 'age': 30}\n"
          ]
        }
      ],
      "source": [
        "del my_dict[\"city\"]\n",
        "print(my_dict)"
      ]
    },
    {
      "cell_type": "markdown",
      "metadata": {
        "id": "b9eQXYK4tP3H"
      },
      "source": [
        "USING POP(): REMOVES THE ITEM AND RETURNS ITS VALUE.\n",
        "#deleting an  item using 'pop'()\n"
      ]
    },
    {
      "cell_type": "code",
      "execution_count": null,
      "metadata": {
        "colab": {
          "base_uri": "https://localhost:8080/"
        },
        "id": "Py3qi1Dztmf0",
        "outputId": "af9cae89-37c2-4fae-ab82-d995e2d258bb"
      },
      "outputs": [
        {
          "name": "stdout",
          "output_type": "stream",
          "text": [
            "30\n"
          ]
        }
      ],
      "source": [
        "age=my_dict.pop(\"age\")\n",
        "print(age)"
      ]
    },
    {
      "cell_type": "code",
      "execution_count": null,
      "metadata": {
        "colab": {
          "base_uri": "https://localhost:8080/"
        },
        "id": "izNZ-PJCtIkZ",
        "outputId": "e82ea3bb-9d31-42b0-e557-35ec1adfa4b9"
      },
      "outputs": [
        {
          "name": "stdout",
          "output_type": "stream",
          "text": [
            "{'name': 'Alice'}\n"
          ]
        }
      ],
      "source": [
        "print(my_dict)"
      ]
    },
    {
      "cell_type": "code",
      "execution_count": null,
      "metadata": {
        "id": "-XH8HpSat0ct"
      },
      "outputs": [],
      "source": []
    },
    {
      "cell_type": "markdown",
      "metadata": {
        "id": "u1LA2c67t3UB"
      },
      "source": [
        "USING CLEAR(): REMOVES ALL ITEMS FROM THE DICTIONARY.\n",
        "#DELETING ALL ITEMS USING 'CLEAR'()\n"
      ]
    },
    {
      "cell_type": "code",
      "execution_count": null,
      "metadata": {
        "colab": {
          "base_uri": "https://localhost:8080/"
        },
        "id": "nk4fdM0_zcqe",
        "outputId": "0717df99-e3d4-4aed-f9a4-6021acf80236"
      },
      "outputs": [
        {
          "name": "stdout",
          "output_type": "stream",
          "text": [
            "{}\n"
          ]
        }
      ],
      "source": [
        "my_dict.clear()\n",
        "print(my_dict)"
      ]
    },
    {
      "cell_type": "code",
      "execution_count": null,
      "metadata": {
        "id": "3k5MxaJfzjFg"
      },
      "outputs": [],
      "source": []
    },
    {
      "cell_type": "code",
      "execution_count": null,
      "metadata": {
        "colab": {
          "background_save": true
        },
        "id": "uAw1Kziazv4N",
        "outputId": "2e16700f-674f-4039-dd22-77f8a3bbe893"
      },
      "outputs": [
        {
          "ename": "NameError",
          "evalue": "name 'd' is not defined",
          "output_type": "error",
          "traceback": [
            "\u001b[0;31m---------------------------------------------------------------------------\u001b[0m",
            "\u001b[0;31mNameError\u001b[0m                                 Traceback (most recent call last)",
            "\u001b[0;32m<ipython-input-9-15bbbc0bb31c>\u001b[0m in \u001b[0;36m<cell line: 1>\u001b[0;34m()\u001b[0m\n\u001b[0;32m----> 1\u001b[0;31m \u001b[0;32mdel\u001b[0m \u001b[0md\u001b[0m\u001b[0;34m\u001b[0m\u001b[0;34m\u001b[0m\u001b[0m\n\u001b[0m\u001b[1;32m      2\u001b[0m \u001b[0md\u001b[0m\u001b[0;34m\u001b[0m\u001b[0;34m\u001b[0m\u001b[0m\n",
            "\u001b[0;31mNameError\u001b[0m: name 'd' is not defined"
          ]
        }
      ],
      "source": [
        "del d\n",
        "d"
      ]
    },
    {
      "cell_type": "code",
      "execution_count": null,
      "metadata": {
        "id": "2GwXr9_ozzLe"
      },
      "outputs": [],
      "source": []
    },
    {
      "cell_type": "markdown",
      "source": [
        "# QUESTION 8: DISCUSS THE IMPORTANCE OF DICTIONARY KEYS BEING IMMUTABLE AND PROVIDE EXAMPLES?\n",
        "ANSWER: IN PYTHON ,DICTIONARY KEYS MUST BE IMMUTABLE BECAUSE THE UNDERLYING DATA STRUCTURE RELIES ON THE HASH VALUE OF THE KEY TO QUICKLY ACCESS VALUES. IT IS A COLLECTION OF ORDERED ELEMENTS,CHANGEABLE, NO DUPLICATE ALLOWED DATA IS STORED IN KEY VALUE PAIR BUT KEYS ARE IMMUTABLE.EXAMPLES of immutable and mutable"
      ],
      "metadata": {
        "id": "40RyxyAhsK3m"
      }
    },
    {
      "cell_type": "code",
      "source": [
        "my_dict={\"name\":\"ajay\", \"age\":30}\n",
        "print(my_dict[\"name\"])"
      ],
      "metadata": {
        "colab": {
          "base_uri": "https://localhost:8080/"
        },
        "id": "UnhgLJQ4vRBs",
        "outputId": "9d840d09-df17-486a-c25e-62f51681fc59"
      },
      "execution_count": null,
      "outputs": [
        {
          "output_type": "stream",
          "name": "stdout",
          "text": [
            "ajay\n"
          ]
        }
      ]
    },
    {
      "cell_type": "code",
      "source": [
        "my_dict={[1,2,3]:\"Numbers\"}"
      ],
      "metadata": {
        "colab": {
          "base_uri": "https://localhost:8080/",
          "height": 141
        },
        "id": "ct7TryyBvo5F",
        "outputId": "3703f15c-9ad2-4aac-e393-1f553053f445"
      },
      "execution_count": null,
      "outputs": [
        {
          "output_type": "error",
          "ename": "TypeError",
          "evalue": "unhashable type: 'list'",
          "traceback": [
            "\u001b[0;31m---------------------------------------------------------------------------\u001b[0m",
            "\u001b[0;31mTypeError\u001b[0m                                 Traceback (most recent call last)",
            "\u001b[0;32m<ipython-input-4-86d9581f3fa0>\u001b[0m in \u001b[0;36m<cell line: 1>\u001b[0;34m()\u001b[0m\n\u001b[0;32m----> 1\u001b[0;31m \u001b[0mmy_dict\u001b[0m\u001b[0;34m=\u001b[0m\u001b[0;34m{\u001b[0m\u001b[0;34m[\u001b[0m\u001b[0;36m1\u001b[0m\u001b[0;34m,\u001b[0m\u001b[0;36m2\u001b[0m\u001b[0;34m,\u001b[0m\u001b[0;36m3\u001b[0m\u001b[0;34m]\u001b[0m\u001b[0;34m:\u001b[0m\u001b[0;34m\"Numbers\"\u001b[0m\u001b[0;34m}\u001b[0m\u001b[0;34m\u001b[0m\u001b[0;34m\u001b[0m\u001b[0m\n\u001b[0m",
            "\u001b[0;31mTypeError\u001b[0m: unhashable type: 'list'"
          ]
        }
      ]
    },
    {
      "cell_type": "markdown",
      "source": [
        "CORRECT USE OF AN IMMUTABLE KEY"
      ],
      "metadata": {
        "id": "rYrrp1yJwBoK"
      }
    },
    {
      "cell_type": "code",
      "source": [
        "my_dict={(1,2,3):\"Numbers\"}\n",
        "print(my_dict[(1,2,3)])"
      ],
      "metadata": {
        "colab": {
          "base_uri": "https://localhost:8080/"
        },
        "id": "oty3Hf6D6ibZ",
        "outputId": "c64c43e5-6b1c-4409-b0b2-d55a18f83b18"
      },
      "execution_count": null,
      "outputs": [
        {
          "output_type": "stream",
          "name": "stdout",
          "text": [
            "Numbers\n"
          ]
        }
      ]
    },
    {
      "cell_type": "code",
      "source": [],
      "metadata": {
        "id": "BwcoqWVY6zuk"
      },
      "execution_count": null,
      "outputs": []
    }
  ],
  "metadata": {
    "colab": {
      "provenance": []
    },
    "kernelspec": {
      "display_name": "Python 3",
      "name": "python3"
    },
    "language_info": {
      "name": "python"
    }
  },
  "nbformat": 4,
  "nbformat_minor": 0
}